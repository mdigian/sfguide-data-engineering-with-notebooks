{
 "metadata": {
  "kernelspec": {
   "display_name": "Streamlit Notebook",
   "name": "streamlit"
  },
  "lastEditStatus": {
   "notebookId": "6dilbx3dorbcknddvbi6",
   "authorId": "143154484062",
   "authorName": "MIKED",
   "authorEmail": "mikes.tech.stuff@outlook.com",
   "sessionId": "25cc7767-7afd-421e-af99-df53891cb21d",
   "lastEditTime": 1742406711828
  }
 },
 "nbformat_minor": 5,
 "nbformat": 4,
 "cells": [
  {
   "cell_type": "markdown",
   "id": "4132a4ef-a90f-4aa4-b334-d7b1aeb2e91e",
   "metadata": {
    "name": "md_overview",
    "collapsed": false
   },
   "source": "# 07 Load Daily City Metrics\n\nload data into `DAILY_CITY_METRICS` with incremental processing."
  },
  {
   "cell_type": "code",
   "id": "1c47f41d-b110-4662-a907-fb9d0566fe94",
   "metadata": {
    "language": "sql",
    "name": "sql_get_context"
   },
   "outputs": [],
   "source": "-- This won't be needed when we can pass variables to Notebooks!\nSELECT current_database() AS DATABASE_NAME, current_schema() AS SCHEMA_NAME",
   "execution_count": null
  },
  {
   "cell_type": "code",
   "id": "2283d2ff-6b0e-479c-9c1d-3d6066043d04",
   "metadata": {
    "language": "python",
    "name": "py_imports",
    "collapsed": false
   },
   "outputs": [],
   "source": "# Import python packages\nimport logging\nfrom snowflake.core import Root\n\nlogger = logging.getLogger(\"demo_logger\")\n\ncurrent_context_df = cells.sql_get_context.to_pandas()       # Get schema from \"sql_get_context\" above #  won't be needed when we can pass variables to Notebooks!\ndatabase_name      = current_context_df.iloc[0,0]\nschema_name        = current_context_df.iloc[0,1]\n\n   \nfrom snowflake.snowpark.context import get_active_session    # We can also use Snowpark for our analyses!\nsession = get_active_session()\n#session.use_schema(f\"{database_name}.{schema_name}\")\n\nlogger.info(\"07_load_daily_city_metrics start\")",
   "execution_count": null
  },
  {
   "cell_type": "markdown",
   "id": "2dd608eb-bc1f-45a9-81bb-35da23528eed",
   "metadata": {
    "name": "md_function",
    "collapsed": false
   },
   "source": "## Function to check if table exists\n\n[Snowflake Python Management API](https://docs.snowflake.com/en/developer-guide/snowflake-python-api/snowflake-python-overview)."
  },
  {
   "cell_type": "code",
   "id": "f9b7500f-5c4f-4c87-a14f-542427705e07",
   "metadata": {
    "language": "python",
    "name": "py_table_exists"
   },
   "outputs": [],
   "source": "def table_exists(session, \n                 database_name='', \n                 schema_name  ='', \n                 table_name   =''):\n    \n    root   = Root(session)\n    tables = root.databases[database_name].schemas[schema_name].tables.iter(like=table_name)\n    \n    for table_obj in tables:\n        if table_obj.name == table_name:\n            return True\n\n    return False\n\n# Not used, SQL alternative to Python\ndef table_exists2(session, \n                  database_name='', \n                  schema_name  ='', \n                  table_name   =''):\n    \n    exists = session.sql(\"SELECT EXISTS (SELECT * FROM {}.INFORMATION_SCHEMA.TABLES WHERE TABLE_SCHEMA = '{}' AND TABLE_NAME = '{}') AS TABLE_EXISTS\".format(database_name, schema_name, table_name)).collect()[0]['TABLE_EXISTS']\n    return exists",
   "execution_count": null
  },
  {
   "cell_type": "markdown",
   "id": "37822d24-6c8f-4afe-b010-ac1e7f4a9fdf",
   "metadata": {
    "name": "md_pipeline",
    "collapsed": false
   },
   "source": "## Pipeline to update daily_city_metrics"
  },
  {
   "cell_type": "code",
   "id": "93b0b39d-d272-46a5-a367-93bccd2f7a80",
   "metadata": {
    "language": "python",
    "name": "py_process_dcm",
    "collapsed": false,
    "codeCollapsed": false
   },
   "outputs": [],
   "source": "import snowflake.snowpark.functions as F\n\ntable_name = \"DAILY_CITY_METRICS\"\n\n# Define\nhistory_day  = session.table(\"FROSTBYTE_WEATHERSOURCE.ONPOINT_ID.HISTORY_DAY\")\norder_detail = session.table(\"ORDER_DETAIL\")  # FROSTBYTE_RAW_STAGE 's3://sfquickstarts/data-engineering-with-snowpark-python/'\nlocation     = session.table(\"LOCATION\")      # FROSTBYTE_RAW_STAGE 's3://sfquickstarts/data-engineering-with-snowpark-python/'\n\n# Join\norder_detail = order_detail.join(location   ,                    order_detail['LOCATION_ID'     ] == location   ['LOCATION_ID'   ] )\norder_detail = order_detail.join(history_day, (F.builtin(\"DATE\")(order_detail['ORDER_TS'        ])== history_day['DATE_VALID_STD'] ) \n                                                                  & (location['ISO_COUNTRY_CODE'] == history_day['COUNTRY'       ] ) \n                                                                  & (location['CITY'            ] == history_day['CITY_NAME'     ] ) )\n\n# Aggregate\nfinal_agg = order_detail.group_by( F.col('DATE_VALID_STD'  ), \n                                   F.col('CITY_NAME'       ), \n                                   F.col('ISO_COUNTRY_CODE') \n                                   ) \\\n                        .agg     ( F.sum('PRICE'                   ).alias('DAILY_SALES_SUM'     ), \n                                   F.avg('AVG_TEMPERATURE_AIR_2M_F').alias(\"AVG_TEMPERATURE_F\"   ), \n                                   F.avg(\"TOT_PRECIPITATION_IN\"    ).alias(\"AVG_PRECIPITATION_IN\"), \n                                   ) \\\n                        .select  ( F.col(\"DATE_VALID_STD\"          ).alias(\"DATE\"                      ), \n                                   F.col(\"CITY_NAME\"               ).alias(\"CITY_NAME\"                 ),  \n                                   F.col(\"ISO_COUNTRY_CODE\"        ).alias(\"COUNTRY_DESC\"              ),          \n           F.builtin(\"ZEROIFNULL\")(F.col(\"DAILY_SALES_SUM\"     )   ).alias(\"DAILY_SALES\"               ),   # agg from above\n                           F.round(F.col(\"AVG_TEMPERATURE_F\"   ), 2).alias(\"AVG_TEMPERATURE_FAHRENHEIT\"),   # agg from above\n                           F.round(F.col(\"AVG_PRECIPITATION_IN\"), 2).alias(\"AVG_PRECIPITATION_INCHES\"  ),   # agg from above\n                                   )\n\n\nif not table_exists(session, \n                    database_name=database_name, \n                    schema_name  =schema_name, \n                    table_name   =table_name): # If table doesn't exist , create it\n    \n    final_agg.write.mode(\"overwrite\").save_as_table(table_name)\n\n    logger.info(f\"Successfully created {table_name}\")\n\nelse:                                                                    # Otherwise upsert\n    cols_to_update = {c: final_agg[c] for c in final_agg.schema.names}   # loop over all columns in finall_agg to create a dictionary mapping. new columns are added automatically.\n                   # {\n                   # \"DATE\"         : final_agg[\"DATE\"         ],\n                   # \"CITY_NAME\"    : final_agg[\"CITY_NAME\"    ],\n                   # \"COUNTRY_DESC\" : final_agg[\"COUNTRY_DESC\" ],\n                   # \"DAILY_SALES\"  : final_agg[\"DAILY_SALES\"  ],\n                   # \"AVG_TEMP\"     : final_agg[\"AVG_TEMP\"     ],\n                   # \"PRECIPITATION\": final_agg[\"PRECIPITATION\"]\n                   # }\n\n\n    dcm = session.table(table_name) # \"DAILY_CITY_METRICS\" - target table to merge into\n    \n    dcm.merge(final_agg,                                        # MERGE SOURCE: final_agg INTO DCM\n              #-------------------------------------------------# MERGE/JOIN KEYS\n              (dcm['DATE'        ] == final_agg['DATE'        ]) \n            & (dcm['CITY_NAME'   ] == final_agg['CITY_NAME'   ]) \n            & (dcm['COUNTRY_DESC'] == final_agg['COUNTRY_DESC']), \\\n              #------------------------------------------------ # MERGE ACTIONS (match = update, notfound = insert)\n            [F.when_matched    ().update(cols_to_update), \n             F.when_not_matched().insert(cols_to_update)]\n             )\n\n    logger.info(f\"Successful update: {table_name}\")\n",
   "execution_count": null
  },
  {
   "cell_type": "markdown",
   "id": "35b06e41-3330-43db-8026-02dfc8d8ecac",
   "metadata": {
    "name": "md_debugging",
    "collapsed": false
   },
   "source": "## Debugging"
  },
  {
   "cell_type": "code",
   "id": "df8e0cb8-3c80-4bd7-87e2-88526e3377ff",
   "metadata": {
    "language": "sql",
    "name": "sql_debugging",
    "collapsed": false
   },
   "outputs": [],
   "source": "SELECT * FROM DAILY_CITY_METRICS LIMIT 10;",
   "execution_count": null
  }
 ]
}